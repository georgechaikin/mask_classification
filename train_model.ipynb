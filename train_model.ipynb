{
  "cells": [
    {
      "cell_type": "code",
      "execution_count": 1,
      "metadata": {
        "id": "gOIPiIUjS6Cw"
      },
      "outputs": [],
      "source": [
        "annotations_dir = 'annotations'\n",
        "images_dir = 'images'\n",
        "dataset_dir = 'dataset'"
      ]
    },
    {
      "attachments": {},
      "cell_type": "markdown",
      "metadata": {
        "id": "bMtxsEhYM_qr"
      },
      "source": [
        "## Download data"
      ]
    },
    {
      "cell_type": "code",
      "execution_count": 2,
      "metadata": {
        "id": "JqQ9xR2VSPPU"
      },
      "outputs": [],
      "source": [
        "# from google.colab import files\n",
        "# files.upload()"
      ]
    },
    {
      "cell_type": "code",
      "execution_count": 3,
      "metadata": {
        "colab": {
          "base_uri": "https://localhost:8080/"
        },
        "id": "qeC_KraxShN3",
        "outputId": "10daa4cb-ab42-4ed6-a105-7090659f6b4c"
      },
      "outputs": [],
      "source": [
        "# # face Mask Detection with two classes\n",
        "# !mkdir ~/.kaggle\n",
        "# !cp kaggle.json ~/.kaggle/kaggle.json\n",
        "# !chmod 600 /root/.kaggle/kaggle.json\n",
        "# !kaggle datasets download andrewmvd/face-mask-detection\n",
        "# !unzip face-mask-detection.zip"
      ]
    },
    {
      "attachments": {},
      "cell_type": "markdown",
      "metadata": {
        "id": "Cia4IREqBgpg"
      },
      "source": [
        "## Preprocessing"
      ]
    },
    {
      "cell_type": "code",
      "execution_count": 20,
      "metadata": {
        "id": "mUE7MXVCTIBo"
      },
      "outputs": [],
      "source": [
        "import xml.etree.ElementTree as ET\n",
        "from tqdm import tqdm\n",
        "import glob\n",
        "import cv2\n",
        "import os"
      ]
    },
    {
      "cell_type": "code",
      "execution_count": 21,
      "metadata": {
        "id": "Yp52DUxiI1H0"
      },
      "outputs": [],
      "source": [
        "os.makedirs(dataset_dir, exist_ok = True)\n",
        "labels = ['without_mask', 'with_mask', 'mask_weared_incorrect']\n",
        "[os.makedirs(os.path.join(dataset_dir, label), exist_ok = True) for label in labels]\n",
        "labels = labels[:2]"
      ]
    },
    {
      "cell_type": "code",
      "execution_count": 6,
      "metadata": {
        "id": "3tIpMt5KC-AC"
      },
      "outputs": [],
      "source": [
        "def save_imgs_from_annotations(annotation_path, img_path, pad_area = (0,0), save_dir = ''):\n",
        "  \"\"\"Gets the list of images and labels from annotation file and image\n",
        "\n",
        "  Args:\n",
        "    annotation_path (str): annotation path\n",
        "    img_path (str): image path\n",
        "    pad_area (tuple, list): additional area to enlarge cut images, default is (0, 0)\n",
        "    save_dir (str):  save dictionary where the cut frames will be saved\n",
        "\n",
        "  Returns:\n",
        "    tuple: two lists with images and labels respectively\n",
        "  \"\"\"\n",
        "  tree = ET.parse(annotation_path)\n",
        "  root = tree.getroot()\n",
        "  filename, _ = os.path.splitext(os.path.basename(annotation_path))\n",
        "  area_width, area_height = pad_area\n",
        "\n",
        "  # Read image\n",
        "  img = cv2.imread(img_path)\n",
        "  height, width = img.shape[:2]\n",
        "  img_type = os.path.splitext(img_path)[1]\n",
        "  # Cut specific frames using annotation bounding boxes\n",
        "  for i, box in enumerate(root.findall(\"object\")):\n",
        "    # Define label\n",
        "    label = box.find('name').text\n",
        "    # Define coords\n",
        "    bndbox = box.find('bndbox')\n",
        "    xmin, ymin = int(bndbox.findtext('xmin')), int(bndbox.findtext('ymin'))\n",
        "    xmin, ymin = max(xmin - area_width, 0), max(ymin - area_height, 0)\n",
        "    xmax, ymax = int(bndbox.findtext('xmax')), int(bndbox.findtext('ymax'))\n",
        "    xmax, ymax = min(xmax + area_width, width), min(ymax + area_height, height)\n",
        "    cut_img = img[ymin:ymax, xmin:xmax]\n",
        "    # Save the image into specific dictionary corresponding the label\n",
        "    save_path = os.path.join(save_dir, label, filename + '_-_' + str(i) + img_type)\n",
        "    if not cv2.imwrite(save_path, cut_img):\n",
        "      raise OSError(f\"The function could not save the image {save_path}\")"
      ]
    },
    {
      "cell_type": "code",
      "execution_count": 7,
      "metadata": {
        "id": "vlKvVcjEJ2ho"
      },
      "outputs": [],
      "source": [
        "def preprocess_dataset(annotations_dir, images_dir, img_type = '.png', **kwargs):\n",
        "  \"\"\"Prepocess dataset using annotation bounding boxes\"\"\"\n",
        "\n",
        "  annotations = glob.glob(os.path.join(annotations_dir, '*.xml'))\n",
        "  for annotation_path in tqdm(annotations):\n",
        "    filename = os.path.splitext(os.path.basename(annotation_path))[0]\n",
        "    img_path = os.path.join(images_dir, filename + img_type)\n",
        "    save_imgs_from_annotations(annotation_path, img_path, **kwargs)"
      ]
    },
    {
      "cell_type": "code",
      "execution_count": 8,
      "metadata": {
        "colab": {
          "base_uri": "https://localhost:8080/"
        },
        "id": "8hvzyzxNLCXN",
        "outputId": "848f894d-0e7c-463c-d509-988b1f3f3dd4"
      },
      "outputs": [
        {
          "name": "stderr",
          "output_type": "stream",
          "text": [
            "  0%|          | 0/853 [00:00<?, ?it/s]"
          ]
        },
        {
          "name": "stderr",
          "output_type": "stream",
          "text": [
            "100%|██████████| 853/853 [00:17<00:00, 49.17it/s]\n"
          ]
        }
      ],
      "source": [
        "preprocess_dataset(annotations_dir, images_dir, save_dir = dataset_dir)"
      ]
    },
    {
      "attachments": {},
      "cell_type": "markdown",
      "metadata": {
        "id": "uJDZxRa4NTh7"
      },
      "source": [
        "## Train model"
      ]
    },
    {
      "cell_type": "code",
      "execution_count": 22,
      "metadata": {
        "id": "hvCPA0J-QFfd"
      },
      "outputs": [],
      "source": [
        "import shutil\n",
        "\n",
        "shutil.rmtree(os.path.join(dataset_dir, 'mask_weared_incorrect'))"
      ]
    },
    {
      "cell_type": "code",
      "execution_count": 23,
      "metadata": {
        "colab": {
          "base_uri": "https://localhost:8080/"
        },
        "id": "MiYb8rqXNWSj",
        "outputId": "f838ff36-bba8-4083-e05d-3ae73c7619ce"
      },
      "outputs": [
        {
          "data": {
            "text/plain": [
              "{'without_mask': 717, 'with_mask': 3232}"
            ]
          },
          "execution_count": 23,
          "metadata": {},
          "output_type": "execute_result"
        }
      ],
      "source": [
        "cnt = {label: len(os.listdir(os.path.join(dataset_dir, label))) for label in labels}\n",
        "cnt"
      ]
    },
    {
      "cell_type": "code",
      "execution_count": 11,
      "metadata": {
        "colab": {
          "base_uri": "https://localhost:8080/"
        },
        "id": "OcBkAlwNv3Vx",
        "outputId": "d32d9b48-8cde-4abd-9435-1e86da832ec4"
      },
      "outputs": [
        {
          "name": "stdout",
          "output_type": "stream",
          "text": [
            "Requirement already satisfied: tensorflow-addons in c:\\users\\georg\\projects\\class-activation-map\\venv\\lib\\site-packages (0.20.0)\n",
            "Requirement already satisfied: typeguard<3.0.0,>=2.7 in c:\\users\\georg\\projects\\class-activation-map\\venv\\lib\\site-packages (from tensorflow-addons) (2.13.3)\n",
            "Requirement already satisfied: packaging in c:\\users\\georg\\projects\\class-activation-map\\venv\\lib\\site-packages (from tensorflow-addons) (23.1)\n"
          ]
        }
      ],
      "source": [
        "!pip install tensorflow-addons"
      ]
    },
    {
      "cell_type": "code",
      "execution_count": 12,
      "metadata": {
        "colab": {
          "base_uri": "https://localhost:8080/"
        },
        "id": "TNkDck04BGE_",
        "outputId": "a07fdcda-32a4-41f4-ad12-c5ea37476377"
      },
      "outputs": [
        {
          "name": "stderr",
          "output_type": "stream",
          "text": [
            "c:\\Users\\georg\\Projects\\class-activation-map\\venv\\lib\\site-packages\\tensorflow_addons\\utils\\tfa_eol_msg.py:23: UserWarning: \n",
            "\n",
            "TensorFlow Addons (TFA) has ended development and introduction of new features.\n",
            "TFA has entered a minimal maintenance and release mode until a planned end of life in May 2024.\n",
            "Please modify downstream libraries to take dependencies from other repositories in our TensorFlow community (e.g. Keras, Keras-CV, and Keras-NLP). \n",
            "\n",
            "For more information see: https://github.com/tensorflow/addons/issues/2807 \n",
            "\n",
            "  warnings.warn(\n",
            "c:\\Users\\georg\\Projects\\class-activation-map\\venv\\lib\\site-packages\\tensorflow_addons\\utils\\ensure_tf_install.py:53: UserWarning: Tensorflow Addons supports using Python ops for all Tensorflow versions above or equal to 2.10.0 and strictly below 2.13.0 (nightly versions are not supported). \n",
            " The versions of TensorFlow you are currently using is 2.9.3 and is not supported. \n",
            "Some things might work, some things might not.\n",
            "If you were to encounter a bug, do not file an issue.\n",
            "If you want to make sure you're using a tested and supported configuration, either change the TensorFlow version or the TensorFlow Addons's version. \n",
            "You can find the compatibility matrix in TensorFlow Addon's readme:\n",
            "https://github.com/tensorflow/addons\n",
            "  warnings.warn(\n"
          ]
        }
      ],
      "source": [
        "import numpy as np\n",
        "import pandas as pd\n",
        "import tensorflow as tf\n",
        "import tensorflow_addons as tfa\n",
        "from tensorflow.keras import models, layers\n",
        "import matplotlib.pyplot as plt\n",
        "import os"
      ]
    },
    {
      "attachments": {},
      "cell_type": "markdown",
      "metadata": {
        "id": "qZlk-YihC5GA"
      },
      "source": [
        "## Creating datasets"
      ]
    },
    {
      "cell_type": "code",
      "execution_count": 33,
      "metadata": {
        "colab": {
          "base_uri": "https://localhost:8080/"
        },
        "id": "9cXbDfFPa06T",
        "outputId": "62f94ed6-451d-4b76-b33a-33d7ec651145"
      },
      "outputs": [
        {
          "name": "stdout",
          "output_type": "stream",
          "text": [
            "Found 3949 files belonging to 2 classes.\n",
            "Using 2765 files for training.\n",
            "Found 3949 files belonging to 2 classes.\n",
            "Using 1184 files for validation.\n"
          ]
        }
      ],
      "source": [
        "from tensorflow.keras.utils import image_dataset_from_directory\n",
        "\n",
        "# 0 - without mask\n",
        "# 1 - mask\n",
        "\n",
        "input_shape = (32, 32, 3)\n",
        "train_ds = image_dataset_from_directory(\n",
        "    dataset_dir,\n",
        "    batch_size = None,\n",
        "    class_names = labels,\n",
        "    image_size = input_shape[:2],\n",
        "    seed = 1,\n",
        "    validation_split = 0.3,\n",
        "    # subset = 'both'\n",
        "    subset = 'training'\n",
        "    )\n",
        "\n",
        "val_ds = image_dataset_from_directory(\n",
        "    dataset_dir,\n",
        "    batch_size = None,\n",
        "    class_names = labels,\n",
        "    image_size = input_shape[:2],\n",
        "    seed = 1,\n",
        "    validation_split = 0.3,\n",
        "    # subset = 'both'\n",
        "    subset = 'validation'\n",
        "    )"
      ]
    },
    {
      "attachments": {},
      "cell_type": "markdown",
      "metadata": {
        "id": "KpH6vSQAaIRH"
      },
      "source": [
        "## Train model"
      ]
    },
    {
      "cell_type": "code",
      "execution_count": 37,
      "metadata": {
        "id": "Phm9zB4zNrGy"
      },
      "outputs": [],
      "source": [
        "rescale = tf.keras.layers.Rescaling(1/255.)\n",
        "aug = tf.keras.Sequential([\n",
        "    layers.RandomFlip('horizontal_and_vertical'),\n",
        "    layers.RandomRotation(0.2)\n",
        "])\n",
        "input = layers.Input(input_shape)\n",
        "rescale_output = rescale(input)\n",
        "aug_output = aug(rescale_output)\n",
        "\n",
        "# base_model = tf.keras.applications.MobileNetV2(input_shape, include_top=False)\n",
        "base_model = tf.keras.applications.VGG16(include_top=False)\n",
        "# base_model.trainable = False\n",
        "trainable_value = True\n",
        "for layer in base_model.layers[::-1]:\n",
        "  if layer.name!='block5_conv1':\n",
        "    layer.trainable = trainable_value\n",
        "  else:\n",
        "    trainable_value = False\n",
        "\n",
        "# inputs = base_model.inputs\n",
        "# outputs = base_model.output\n",
        "output = base_model(aug_output)\n",
        "output = layers.GlobalAveragePooling2D()(output)\n",
        "output = layers.Dense(128, activation = 'relu')(output)\n",
        "output = layers.Lambda(lambda x: tf.math.l2_normalize(x, axis=1))(output)"
      ]
    },
    {
      "cell_type": "code",
      "execution_count": 38,
      "metadata": {
        "id": "klcv9F6tQtdE"
      },
      "outputs": [],
      "source": [
        "test_model = models.Model(inputs=input, outputs=output, name = 'tripletloss_model')"
      ]
    },
    {
      "cell_type": "code",
      "execution_count": 39,
      "metadata": {
        "colab": {
          "base_uri": "https://localhost:8080/"
        },
        "id": "N3JgDSSmxq0A",
        "outputId": "5c581b42-622e-49e0-dd32-10111b46b17e"
      },
      "outputs": [
        {
          "name": "stdout",
          "output_type": "stream",
          "text": [
            "Model: \"tripletloss_model\"\n",
            "_________________________________________________________________\n",
            " Layer (type)                Output Shape              Param #   \n",
            "=================================================================\n",
            " input_3 (InputLayer)        [(None, 32, 32, 3)]       0         \n",
            "                                                                 \n",
            " rescaling_1 (Rescaling)     (None, 32, 32, 3)         0         \n",
            "                                                                 \n",
            " sequential_1 (Sequential)   (None, 32, 32, 3)         0         \n",
            "                                                                 \n",
            " vgg16 (Functional)          (None, None, None, 512)   14714688  \n",
            "                                                                 \n",
            " global_average_pooling2d_1   (None, 512)              0         \n",
            " (GlobalAveragePooling2D)                                        \n",
            "                                                                 \n",
            " dense_1 (Dense)             (None, 128)               65664     \n",
            "                                                                 \n",
            " lambda_1 (Lambda)           (None, 128)               0         \n",
            "                                                                 \n",
            "=================================================================\n",
            "Total params: 14,780,352\n",
            "Trainable params: 7,145,088\n",
            "Non-trainable params: 7,635,264\n",
            "_________________________________________________________________\n"
          ]
        }
      ],
      "source": [
        "test_model.summary()"
      ]
    },
    {
      "cell_type": "code",
      "execution_count": 40,
      "metadata": {
        "id": "qmKppWdwURri"
      },
      "outputs": [],
      "source": [
        "test_model.compile(\n",
        "    optimizer=tf.keras.optimizers.Adam(),\n",
        "    loss=tfa.losses.TripletHardLoss(0.2))"
      ]
    },
    {
      "cell_type": "code",
      "execution_count": 41,
      "metadata": {
        "id": "fTd2WWQZJRaU"
      },
      "outputs": [],
      "source": [
        "model_name = test_model.name\n",
        "# model_name = 'tripletloss_model'\n",
        "best_w = tf.keras.callbacks.ModelCheckpoint(\n",
        "    f'{model_name}_best.hdf5',\n",
        "    monitor='val_loss',\n",
        "    verbose=1,\n",
        "    save_best_only=True,\n",
        "    save_weights_only=False,\n",
        "    mode='min'\n",
        "    )\n",
        "\n",
        "last_w = tf.keras.callbacks.ModelCheckpoint(\n",
        "    f'{model_name}_last.hdf5',\n",
        "    monitor='val_loss',\n",
        "    verbose=0,\n",
        "    save_best_only=False,\n",
        "    save_weights_only=False,\n",
        "    mode='auto'\n",
        "    )\n",
        "\n",
        "early_stopping = tf.keras.callbacks.EarlyStopping(monitor='val_loss', patience=20, mode = 'min')\n",
        "\n",
        "callbacks = [best_w, last_w, early_stopping]"
      ]
    },
    {
      "cell_type": "code",
      "execution_count": null,
      "metadata": {
        "colab": {
          "base_uri": "https://localhost:8080/"
        },
        "id": "r5ux41STJXuG",
        "outputId": "63e11962-9aec-4e27-ef5e-b8ccd48d2479"
      },
      "outputs": [],
      "source": [
        "epochs = 1_000\n",
        "history = test_model.fit(\n",
        "    train_ds.batch(1024),\n",
        "    epochs=epochs,\n",
        "    validation_data=val_ds.batch(128),\n",
        "    callbacks = callbacks,\n",
        "    # class_weight = class_weight\n",
        "    )"
      ]
    },
    {
      "attachments": {},
      "cell_type": "markdown",
      "metadata": {
        "id": "go5y7lWgwWlh"
      },
      "source": [
        "## Plot"
      ]
    },
    {
      "cell_type": "code",
      "execution_count": 43,
      "metadata": {
        "colab": {
          "base_uri": "https://localhost:8080/",
          "height": 472
        },
        "id": "Uuwix79rgcuj",
        "outputId": "672c2055-6d2b-4308-a8ee-b153c859f903"
      },
      "outputs": [
        {
          "data": {
            "image/png": "[encoded data removed]",
            "text/plain": [
              "<Figure size 640x480 with 1 Axes>"
            ]
          },
          "metadata": {},
          "output_type": "display_data"
        }
      ],
      "source": [
        "epochs_range = history.epoch\n",
        "loss = history.history['loss']\n",
        "val_loss = history.history['val_loss']\n",
        "plt.plot(epochs_range, loss,label = 'loss')\n",
        "plt.plot(epochs_range, val_loss,label = 'val_loss')\n",
        "plt.title('Training and val loss')\n",
        "plt.xlabel('Epochs')\n",
        "plt.ylabel('Loss')\n",
        "plt.legend()\n",
        "plt.grid()\n"
      ]
    },
    {
      "attachments": {},
      "cell_type": "markdown",
      "metadata": {
        "id": "V9Y97vh4A9ih"
      },
      "source": [
        "## Test model"
      ]
    },
    {
      "cell_type": "code",
      "execution_count": 14,
      "metadata": {
        "id": "X2SRbAcsM8oM"
      },
      "outputs": [],
      "source": [
        "test_model = tf.keras.models.load_model('tripletloss_model_best.hdf5', compile = False)"
      ]
    },
    {
      "cell_type": "code",
      "execution_count": 45,
      "metadata": {
        "colab": {
          "base_uri": "https://localhost:8080/"
        },
        "id": "73n7ozGK6-ND",
        "outputId": "5ab5eb8c-faba-4af0-cba6-49d61b54cd63"
      },
      "outputs": [
        {
          "data": {
            "text/plain": [
              "TensorShape([1184, 32, 32, 3])"
            ]
          },
          "execution_count": 45,
          "metadata": {},
          "output_type": "execute_result"
        }
      ],
      "source": [
        "# for val_batch in val_ds.unbatch().batch(val_nb):\n",
        "for val_batch in val_ds.batch(1184):\n",
        "  break\n",
        "val_batch[0].shape"
      ]
    },
    {
      "cell_type": "code",
      "execution_count": 46,
      "metadata": {
        "colab": {
          "base_uri": "https://localhost:8080/"
        },
        "id": "ilvXR0Q9JtiB",
        "outputId": "50e46acf-ddeb-4854-a6c4-410bd1b44d88"
      },
      "outputs": [
        {
          "data": {
            "text/plain": [
              "TensorShape([2765, 32, 32, 3])"
            ]
          },
          "execution_count": 46,
          "metadata": {},
          "output_type": "execute_result"
        }
      ],
      "source": [
        "# for train_batch in train_ds.batch(train_nb):\n",
        "for train_batch in train_ds.batch(2765):\n",
        "  break\n",
        "train_batch[0].shape"
      ]
    },
    {
      "cell_type": "code",
      "execution_count": 47,
      "metadata": {
        "id": "V53Z21_s9Til"
      },
      "outputs": [],
      "source": [
        "def k_nearest(x, images,labels,model, k=5):\n",
        "  \"\"\"k nearest function\n",
        "\n",
        "  Args:\n",
        "    x (tf.Tensor): batch for which predictions should be defined\n",
        "    images: images for k nearest algorithm\n",
        "    labels: labels of given images\n",
        "    model: tensorflow model for predictions\n",
        "    k: number of neighbours\n",
        "\n",
        "  Returns:\n",
        "    tf.Tensor: batch of predictions\n",
        "  \"\"\"\n",
        "  preds = model.predict(images)\n",
        "  y = model.predict(x)\n",
        "  subtraction = (tf.expand_dims(y, 1) - preds)\n",
        "  confidence = 1/(tf.norm(subtraction, axis = -1) + 1e-7)\n",
        "  sorted_indices = tf.argsort(confidence,direction='DESCENDING')\n",
        "  sorted_labels = tf.gather_nd(labels, tf.expand_dims(sorted_indices, -1))\n",
        "  sorted_count = tf.math.bincount(sorted_labels[:,:k], axis = -1)\n",
        "  result = tf.argmax(sorted_count, axis = -1)\n",
        "  return result"
      ]
    },
    {
      "cell_type": "code",
      "execution_count": 48,
      "metadata": {
        "colab": {
          "base_uri": "https://localhost:8080/"
        },
        "id": "dVQBQHDf9fRl",
        "outputId": "0083a02f-4f21-4b04-df8e-6ed33aa8eb81"
      },
      "outputs": [
        {
          "name": "stdout",
          "output_type": "stream",
          "text": [
            "87/87 [==============================] - 1s 10ms/step\n",
            "37/37 [==============================] - 0s 5ms/step\n"
          ]
        }
      ],
      "source": [
        "y_pred = k_nearest(val_batch[0], train_batch[0], train_batch[1], test_model, k=3)\n",
        "y_val = val_batch[1]"
      ]
    },
    {
      "cell_type": "code",
      "execution_count": 49,
      "metadata": {
        "colab": {
          "base_uri": "https://localhost:8080/"
        },
        "id": "mPnen-wITRDx",
        "outputId": "f4fbd588-6063-40ca-bac9-edeb7ddd4045"
      },
      "outputs": [
        {
          "data": {
            "text/plain": [
              "(0.9510135135135135, 0.9650205761316872, 0.975051975051975)"
            ]
          },
          "execution_count": 49,
          "metadata": {},
          "output_type": "execute_result"
        }
      ],
      "source": [
        "from sklearn.metrics import precision_score, recall_score, accuracy_score\n",
        "\n",
        "accuracy_score(y_val, y_pred), precision_score(y_val, y_pred), recall_score(y_val, y_pred)"
      ]
    },
    {
      "attachments": {},
      "cell_type": "markdown",
      "metadata": {},
      "source": [
        "## Plot the image with preds"
      ]
    },
    {
      "cell_type": "code",
      "execution_count": 181,
      "metadata": {},
      "outputs": [
        {
          "name": "stdout",
          "output_type": "stream",
          "text": [
            "Label: tf.Tensor(1, shape=(), dtype=int32)\n",
            "Prediction: tf.Tensor(1, shape=(), dtype=int64)\n"
          ]
        },
        {
          "data": {
            "text/plain": [
              "<matplotlib.image.AxesImage at 0x1eb631c6a90>"
            ]
          },
          "execution_count": 181,
          "metadata": {},
          "output_type": "execute_result"
        },
        {
          "data": {
            "image/png": "[encoded data removed]",
            "text/plain": [
              "<Figure size 640x480 with 1 Axes>"
            ]
          },
          "metadata": {},
          "output_type": "display_data"
        }
      ],
      "source": [
        "i = np.random.randint(0, val_batch[0].shape[0])\n",
        "print('Label:', y_val[i])\n",
        "print('Prediction:', y_pred[i])\n",
        "plt.imshow(val_batch[0][i]/255.)"
      ]
    }
  ],
  "metadata": {
    "accelerator": "GPU",
    "colab": {
      "gpuType": "T4",
      "provenance": []
    },
    "kernelspec": {
      "display_name": "Python 3",
      "name": "python3"
    },
    "language_info": {
      "codemirror_mode": {
        "name": "ipython",
        "version": 3
      },
      "file_extension": ".py",
      "mimetype": "text/x-python",
      "name": "python",
      "nbconvert_exporter": "python",
      "pygments_lexer": "ipython3",
      "version": "3.9.0"
    }
  },
  "nbformat": 4,
  "nbformat_minor": 0
}
