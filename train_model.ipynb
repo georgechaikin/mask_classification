{
  "nbformat": 4,
  "nbformat_minor": 0,
  "metadata": {
    "colab": {
      "name": "train_model.ipynb",
      "provenance": [],
      "collapsed_sections": [],
      "toc_visible": true,
      "authorship_tag": "ABX9TyOXV0D9QqUozvu8pWBxZPrJ",
      "include_colab_link": true
    },
    "kernelspec": {
      "name": "python3",
      "display_name": "Python 3"
    },
    "accelerator": "GPU"
  },
  "cells": [
    {
      "cell_type": "markdown",
      "metadata": {
        "id": "view-in-github",
        "colab_type": "text"
      },
      "source": [
        "<a href=\"https://colab.research.google.com/github/globalpie271/mask_classification/blob/main/train_model.ipynb\" target=\"_parent\"><img src=\"https://colab.research.google.com/assets/colab-badge.svg\" alt=\"Open In Colab\"/></a>"
      ]
    },
    {
      "cell_type": "code",
      "metadata": {
        "id": "HJqxeN41Ay6N",
        "colab": {
          "base_uri": "https://localhost:8080/"
        },
        "outputId": "8a8f8926-b6af-4a1f-e129-35a2dd53f8c2"
      },
      "source": [
        "from google.colab import drive\n",
        "drive.mount('/content/gdrive')"
      ],
      "execution_count": 19,
      "outputs": [
        {
          "output_type": "stream",
          "text": [
            "Drive already mounted at /content/gdrive; to attempt to forcibly remount, call drive.mount(\"/content/gdrive\", force_remount=True).\n"
          ],
          "name": "stdout"
        }
      ]
    },
    {
      "cell_type": "markdown",
      "metadata": {
        "id": "Cia4IREqBgpg"
      },
      "source": [
        "# Preprocessing"
      ]
    },
    {
      "cell_type": "code",
      "metadata": {
        "id": "NOsEvWx9u8YA"
      },
      "source": [
        "PATH = r'gdrive/My Drive/Colab Notebooks/face_recognition/'\n",
        "SRC_PATH = PATH + 'src/'\n",
        "DATA_PATH = PATH + 'data/'\n",
        "IMAGES_PATH = DATA_PATH + 'images/'\n",
        "MASKS_PATH = IMAGES_PATH + 'masks/'\n",
        "\n",
        "TRAIN_PATH = MASKS_PATH + 'train/'\n",
        "TEST_PATH = MASKS_PATH + 'test/'\n",
        "VALIDATION_PATH = MASKS_PATH + 'validation/'\n",
        "\n",
        "MODELS_PATH = DATA_PATH + 'models/'\n",
        "PLOT_PATH = DATA_PATH + 'plot/'"
      ],
      "execution_count": 20,
      "outputs": []
    },
    {
      "cell_type": "code",
      "metadata": {
        "id": "1a35yye0ngSD",
        "colab": {
          "base_uri": "https://localhost:8080/"
        },
        "outputId": "aa434dd0-7852-4957-a9dc-a1b6eada6ca8"
      },
      "source": [
        "!pwd\n",
        "!find gdrive/My\\ Drive/Colab\\ Notebooks/face_recognition/data/images/masks/train -type f | wc -l\n",
        "!find gdrive/My\\ Drive/Colab\\ Notebooks/face_recognition/data/images/masks/test -type f | wc -l\n",
        "!find gdrive/My\\ Drive/Colab\\ Notebooks/face_recognition/data/images/masks/validation -type f | wc -l"
      ],
      "execution_count": 21,
      "outputs": [
        {
          "output_type": "stream",
          "text": [
            "/content\n",
            "10440\n",
            "992\n",
            "800\n"
          ],
          "name": "stdout"
        }
      ]
    },
    {
      "cell_type": "code",
      "metadata": {
        "id": "Vlg35emQtTD6"
      },
      "source": [
        "!pip install -q -U tensorflow-addons"
      ],
      "execution_count": 22,
      "outputs": []
    },
    {
      "cell_type": "code",
      "metadata": {
        "id": "TNkDck04BGE_"
      },
      "source": [
        "import numpy as np\n",
        "import pandas as pd\n",
        "import tensorflow as tf\n",
        "import tensorflow_addons as tfa\n",
        "import tensorflow_datasets as tfds\n",
        "# import keras\n",
        "from tensorflow.keras import models, layers\n",
        "from PIL import Image\n",
        "import matplotlib.pyplot as plt\n",
        "import math\n",
        "import os\n",
        "import matplotlib.pyplot as plt"
      ],
      "execution_count": 23,
      "outputs": []
    },
    {
      "cell_type": "markdown",
      "metadata": {
        "id": "qZlk-YihC5GA"
      },
      "source": [
        "## Creating generators"
      ]
    },
    {
      "cell_type": "code",
      "metadata": {
        "colab": {
          "base_uri": "https://localhost:8080/"
        },
        "id": "qCjO4-gPFezw",
        "outputId": "9e2b3413-c60e-481a-d11a-c30f83942b52"
      },
      "source": [
        "from tensorflow.keras.preprocessing.image import ImageDataGenerator\r\n",
        "from tensorflow.keras.preprocessing import image_dataset_from_directory\r\n",
        "\r\n",
        "image_size = (160, 160)\r\n",
        "train_batch_size = 800\r\n",
        "\r\n",
        "train_datagen = ImageDataGenerator(\r\n",
        "    rescale = 1./255,\r\n",
        "    horizontal_flip = True)\r\n",
        "test_datagen = ImageDataGenerator(rescale = 1./255)\r\n",
        "\r\n",
        "train_generator  = train_datagen.flow_from_directory(\r\n",
        "    TRAIN_PATH,\r\n",
        "    target_size = image_size,\r\n",
        "    batch_size = train_batch_size,\r\n",
        "    class_mode = 'binary')\r\n",
        "\r\n",
        "validation_generator = test_datagen.flow_from_directory(\r\n",
        "    VALIDATION_PATH,\r\n",
        "    target_size = image_size,\r\n",
        "    batch_size = 512,\r\n",
        "    class_mode = 'binary')\r\n",
        "\r\n",
        "test_dataset = image_dataset_from_directory(\r\n",
        "    TEST_PATH,\r\n",
        "    batch_size=32,\r\n",
        "    image_size = image_size)"
      ],
      "execution_count": 25,
      "outputs": [
        {
          "output_type": "stream",
          "text": [
            "Found 10440 images belonging to 2 classes.\n",
            "Found 800 images belonging to 2 classes.\n",
            "Found 992 files belonging to 2 classes.\n"
          ],
          "name": "stdout"
        }
      ]
    },
    {
      "cell_type": "markdown",
      "metadata": {
        "id": "KpH6vSQAaIRH"
      },
      "source": [
        "# Train model"
      ]
    },
    {
      "cell_type": "code",
      "metadata": {
        "id": "fTd2WWQZJRaU"
      },
      "source": [
        "test_model = models.Sequential()\n",
        "test_model.add(layers.Conv2D(16,(3,3), padding = 'same',activation = 'relu', input_shape = (160,160,3)))\n",
        "test_model.add(layers.Conv2D(32,(3,3), padding = 'valid',activation = 'relu'))\n",
        "test_model.add(layers.MaxPool2D())\n",
        "test_model.add(layers.Conv2D(64,(3,3), padding = 'valid',activation = 'relu'))\n",
        "test_model.add(layers.Conv2D(64,(3,3), padding = 'valid',activation = 'relu'))\n",
        "test_model.add(layers.MaxPool2D())\n",
        "test_model.add(layers.Conv2D(128,(3,3), padding = 'valid',activation = 'relu'))\n",
        "test_model.add(layers.Conv2D(128,(3,3), padding = 'valid',activation = 'relu'))\n",
        "test_model.add(layers.MaxPool2D())\n",
        "test_model.add(layers.Conv2D(256,(3,3), padding = 'valid',activation = 'relu'))\n",
        "test_model.add(layers.Conv2D(256,(3,3), padding = 'valid',activation = 'relu'))\n",
        "test_model.add(layers.MaxPool2D())\n",
        "test_model.add(layers.Conv2D(256,(3,3), padding = 'valid',activation = 'relu'))\n",
        "test_model.add(layers.Conv2D(256,(3,3), padding = 'valid',activation = 'relu'))\n",
        "test_model.add(layers.MaxPool2D())\n",
        "\n",
        "test_model.add(layers.Flatten())\n",
        "\n",
        "\n",
        "test_model.add(layers.Lambda(lambda x: tf.math.l2_normalize(x, axis=1)))"
      ],
      "execution_count": 31,
      "outputs": []
    },
    {
      "cell_type": "code",
      "metadata": {
        "id": "hB4RAIdWGzYy",
        "colab": {
          "base_uri": "https://localhost:8080/"
        },
        "outputId": "5098bc38-685a-4b2a-a6d9-6c0be70ec8b5"
      },
      "source": [
        "test_model.summary()"
      ],
      "execution_count": 33,
      "outputs": [
        {
          "output_type": "stream",
          "text": [
            "Model: \"sequential_1\"\n",
            "_________________________________________________________________\n",
            "Layer (type)                 Output Shape              Param #   \n",
            "=================================================================\n",
            "conv2d_10 (Conv2D)           (None, 160, 160, 16)      448       \n",
            "_________________________________________________________________\n",
            "conv2d_11 (Conv2D)           (None, 158, 158, 32)      4640      \n",
            "_________________________________________________________________\n",
            "max_pooling2d_5 (MaxPooling2 (None, 79, 79, 32)        0         \n",
            "_________________________________________________________________\n",
            "conv2d_12 (Conv2D)           (None, 77, 77, 64)        18496     \n",
            "_________________________________________________________________\n",
            "conv2d_13 (Conv2D)           (None, 75, 75, 64)        36928     \n",
            "_________________________________________________________________\n",
            "max_pooling2d_6 (MaxPooling2 (None, 37, 37, 64)        0         \n",
            "_________________________________________________________________\n",
            "conv2d_14 (Conv2D)           (None, 35, 35, 128)       73856     \n",
            "_________________________________________________________________\n",
            "conv2d_15 (Conv2D)           (None, 33, 33, 128)       147584    \n",
            "_________________________________________________________________\n",
            "max_pooling2d_7 (MaxPooling2 (None, 16, 16, 128)       0         \n",
            "_________________________________________________________________\n",
            "conv2d_16 (Conv2D)           (None, 14, 14, 256)       295168    \n",
            "_________________________________________________________________\n",
            "conv2d_17 (Conv2D)           (None, 12, 12, 256)       590080    \n",
            "_________________________________________________________________\n",
            "max_pooling2d_8 (MaxPooling2 (None, 6, 6, 256)         0         \n",
            "_________________________________________________________________\n",
            "conv2d_18 (Conv2D)           (None, 4, 4, 256)         590080    \n",
            "_________________________________________________________________\n",
            "conv2d_19 (Conv2D)           (None, 2, 2, 256)         590080    \n",
            "_________________________________________________________________\n",
            "max_pooling2d_9 (MaxPooling2 (None, 1, 1, 256)         0         \n",
            "_________________________________________________________________\n",
            "flatten_1 (Flatten)          (None, 256)               0         \n",
            "_________________________________________________________________\n",
            "lambda_1 (Lambda)            (None, 256)               0         \n",
            "=================================================================\n",
            "Total params: 2,347,360\n",
            "Trainable params: 2,347,360\n",
            "Non-trainable params: 0\n",
            "_________________________________________________________________\n"
          ],
          "name": "stdout"
        }
      ]
    },
    {
      "cell_type": "code",
      "metadata": {
        "id": "r5ux41STJXuG",
        "colab": {
          "base_uri": "https://localhost:8080/"
        },
        "outputId": "15161449-762b-4d0f-96d1-60f43d735d67"
      },
      "source": [
        "epochs = 10\n",
        "history = test_model.fit(train_generator,\n",
        "              epochs=epochs,\n",
        "              validation_data=validation_generator\n",
        "              )\n"
      ],
      "execution_count": 36,
      "outputs": [
        {
          "output_type": "stream",
          "text": [
            "Epoch 1/10\n",
            "14/14 [==============================] - 42s 3s/step - loss: 0.3528 - val_loss: 0.2312\n",
            "Epoch 2/10\n",
            "14/14 [==============================] - 40s 3s/step - loss: 0.2313 - val_loss: 0.2150\n",
            "Epoch 3/10\n",
            "14/14 [==============================] - 40s 3s/step - loss: 0.2155 - val_loss: 0.2097\n",
            "Epoch 4/10\n",
            "14/14 [==============================] - 41s 3s/step - loss: 0.2096 - val_loss: 0.2074\n",
            "Epoch 5/10\n",
            "14/14 [==============================] - 39s 3s/step - loss: 0.2074 - val_loss: 0.2056\n",
            "Epoch 6/10\n",
            "14/14 [==============================] - 40s 3s/step - loss: 0.2060 - val_loss: 0.2050\n",
            "Epoch 7/10\n",
            "14/14 [==============================] - 40s 3s/step - loss: 0.2050 - val_loss: 0.2044\n",
            "Epoch 8/10\n",
            "14/14 [==============================] - 40s 3s/step - loss: 0.2043 - val_loss: 0.2041\n",
            "Epoch 9/10\n",
            "14/14 [==============================] - 42s 3s/step - loss: 0.2038 - val_loss: 0.2035\n",
            "Epoch 10/10\n",
            "14/14 [==============================] - 41s 3s/step - loss: 0.2033 - val_loss: 0.2031\n"
          ],
          "name": "stdout"
        }
      ]
    },
    {
      "cell_type": "markdown",
      "metadata": {
        "id": "go5y7lWgwWlh"
      },
      "source": [
        "# Plot"
      ]
    },
    {
      "cell_type": "code",
      "metadata": {
        "id": "ijIhDOG9dLrZ",
        "colab": {
          "base_uri": "https://localhost:8080/",
          "height": 295
        },
        "outputId": "2aca4767-d094-4a58-eb38-859217c18a6c"
      },
      "source": [
        "# epochs = 14\n",
        "number = 0\n",
        "training_number = '_train_' + str(number)\n",
        "epochs_range = range(1,epochs+1)\n",
        "loss = history.history['loss']\n",
        "val_loss = history.history['val_loss']\n",
        "plt.plot(epochs_range, loss,label = 'loss')\n",
        "plt.plot(epochs_range, val_loss,label = 'val_loss')\n",
        "plt.title('Training and test loss')\n",
        "plt.xlabel('Epochs')\n",
        "plt.ylabel('Loss')\n",
        "plt.legend()\n",
        "plt.grid()\n",
        "# plt.savefig(PLOT_FOLDER_PATH + model_name + training_number + '.pdf',bbox_inches='tight')\n",
        "# plt.savefig(PLOT_FOLDER_PATH + model_name + training_number + '.png',bbox_inches='tight')\n"
      ],
      "execution_count": 136,
      "outputs": [
        {
          "output_type": "display_data",
          "data": {
            "image/png": "[encoded data removed]",
            "text/plain": [
              "<Figure size 432x288 with 1 Axes>"
            ]
          },
          "metadata": {
            "tags": [],
            "needs_background": "light"
          }
        }
      ]
    },
    {
      "cell_type": "markdown",
      "metadata": {
        "id": "V9Y97vh4A9ih"
      },
      "source": [
        "# Test model"
      ]
    },
    {
      "cell_type": "code",
      "metadata": {
        "id": "V7qeUegMKjIh"
      },
      "source": [
        "def k_nearest(x, images,labels,model,k = 5):\n",
        "  '''\n",
        "  k nearest function\n",
        "  Args:\n",
        "    x (tf.Tensor): image for which label should be defined\n",
        "    images: images for k nearest algorithm\n",
        "    labels: labels of given images\n",
        "    model: tensorflow model for predicting\n",
        "    k: number of neighbours\n",
        "  \n",
        "  Raises:\n",
        "    ValueError: if k is even\n",
        "\n",
        "  Returns:\n",
        "    tf.Tensor: tensor of shape (1,) (if x without mask then [1] else [0])\n",
        "  '''\n",
        "  if k%2==0: raise ValueError('k should be odd')\n",
        "\n",
        "  predict = model.predict(images)\n",
        "  x = model.predict(tf.stack([x]))\n",
        "  x = tf.reshape(x, [-1,])\n",
        "  confidence = 1/tf.norm(x-predict, axis = 1)\n",
        "  sorted_indices = tf.argsort(confidence,direction='DESCENDING')\n",
        "  \n",
        "  result = tf.zeros([1])\n",
        "  with_mask_confidence, without_mask_confidence = tf.zeros([1]), tf.zeros([1])\n",
        "  sorted_labels = tf.map_fn(lambda x: labels[x], sorted_indices)\n",
        "  without_mask_number = tf.reduce_sum(sorted_labels[0:k])\n",
        "  # print(labels)\n",
        "  # print(sorted_indices)\n",
        "  # print(sorted_labels)\n",
        "  # print(without_mask_number)\n",
        "\n",
        "  without_mask_number = tf.cast(without_mask_number, tf.float32)\n",
        "\n",
        "  return tf.where(without_mask_number > tf.floor(tf.constant([k/2])),tf.constant(1), tf.constant(0))"
      ],
      "execution_count": 114,
      "outputs": []
    },
    {
      "cell_type": "code",
      "metadata": {
        "id": "73n7ozGK6-ND"
      },
      "source": [
        "for batch in test_dataset:\r\n",
        "  break"
      ],
      "execution_count": 134,
      "outputs": []
    },
    {
      "cell_type": "code",
      "metadata": {
        "id": "HkCn4kUfKUFC",
        "colab": {
          "base_uri": "https://localhost:8080/",
          "height": 211
        },
        "outputId": "7ba4d28e-5873-4259-a968-6980c2372252"
      },
      "source": [
        "print(batch[1][0])\n",
        "result = k_nearest((batch[0][0]/255.).numpy(),batch[0][1:]/255., batch[1][1:], test_model, k = 7)\n",
        "print(result)\n",
        "array_to_img(batch[0][0])"
      ],
      "execution_count": 135,
      "outputs": [
        {
          "output_type": "stream",
          "text": [
            "tf.Tensor(0, shape=(), dtype=int32)\n",
            "tf.Tensor([0], shape=(1,), dtype=int32)\n"
          ],
          "name": "stdout"
        },
        {
          "output_type": "execute_result",
          "data": {
            "image/png": "[encoded data removed]",
            "text/plain": [
              "<PIL.Image.Image image mode=RGB size=160x160 at 0x7F2B004FA410>"
            ]
          },
          "metadata": {
            "tags": []
          },
          "execution_count": 135
        }
      ]
    }
  ]
}